{
 "cells": [
  {
   "cell_type": "markdown",
   "metadata": {},
   "source": [
    "Optical field calculation using the Fourier Modal Method\n",
    "===="
   ]
  },
  {
   "cell_type": "markdown",
   "metadata": {},
   "source": [
    "# Part 1. Eigenmode calculation"
   ]
  },
  {
   "cell_type": "code",
   "execution_count": 23,
   "metadata": {},
   "outputs": [],
   "source": [
    "%reset\n",
    "\n",
    "import numpy as np\n",
    "import matplotlib.pyplot as plt\n",
    "from scipy import sparse, linalg, integrate"
   ]
  },
  {
   "cell_type": "code",
   "execution_count": 24,
   "metadata": {},
   "outputs": [],
   "source": [
    "N=25                                    # summation limits\n",
    "M=2*N+1                                 # Total Number of plane wave terms included in expansion\n",
    "\n",
    "l = 0.633                               # work wavelength in µm\n",
    "thetaDeg = 0\n",
    "theta = thetaDeg * ((2*np.pi)/360)      # Angle of incidence (radians)\n",
    "\n",
    "eps1 = 1\n",
    "sqrteps2 = 1.5\n",
    "eps2=sqrteps2**2\n",
    "n1=np.sqrt(eps1)\n",
    "n2=sqrteps2\n",
    "\n",
    "k0 = 2*np.pi/l                          # k vector in layer 1 (air)\n",
    "k1=k0*np.sqrt(eps1)\n",
    "kx = k1*np.sin(theta)\n",
    "\n",
    "Lambda = 0.400      # µm\n",
    "f = 0.32\n",
    "\n",
    "# constants\n",
    "G = 2*np.pi/Lambda\n",
    "\n",
    "# build A matrix\n",
    "A = np.eye(M)\n",
    "for i in range(M):\n",
    "        A[i ,i] = ((-N+i)*G+kx)**2\n"
   ]
  },
  {
   "cell_type": "code",
   "execution_count": 29,
   "metadata": {},
   "outputs": [],
   "source": [
    "def complex_quadrature(func, a, b, **kwargs):\n",
    "    def real_func(x):\n",
    "        return np.real(func(x))\n",
    "    def imag_func(x):\n",
    "        return np.imag(func(x))\n",
    "    real_integral = integrate.quad(real_func, a, b, limit=100, **kwargs)\n",
    "    imag_integral = integrate.quad(imag_func, a, b, limit=100, **kwargs)\n",
    "    return real_integral[0] + 1j*imag_integral[0]\n",
    "\n",
    "B = np.zeros((M, M), dtype=np.complex_)\n",
    "for i in range(M):\n",
    "    for j in range(M):\n",
    "        func = lambda x: (eps1*np.heaviside(x-f*Lambda, 0)+eps2*np.heaviside(f*Lambda-x, 0)) * np.exp(-1j*(i-j)*G*x)\n",
    "        B[i,j] = (1/Lambda) * complex_quadrature(func, 0, Lambda)\n"
   ]
  },
  {
   "cell_type": "code",
   "execution_count": 32,
   "metadata": {},
   "outputs": [
    {
     "data": {
      "text/plain": [
       "(-1.5562073021585563e-08+2.1955875061367416e-11j)"
      ]
     },
     "execution_count": 32,
     "metadata": {},
     "output_type": "execute_result"
    }
   ],
   "source": [
    "B[50, 0]"
   ]
  },
  {
   "cell_type": "code",
   "execution_count": 33,
   "metadata": {},
   "outputs": [],
   "source": [
    "EigPb = -A + (k0**2)*B\n",
    "\n",
    "eigenValues, eigenVectors = linalg.eig(EigPb)\n",
    "\n",
    "# sort 'em all\n",
    "idx = eigenValues.argsort()[::-1]   \n",
    "eigvals = eigenValues[idx]\n",
    "eigvecs = eigenVectors[:,idx]"
   ]
  },
  {
   "cell_type": "code",
   "execution_count": 35,
   "metadata": {},
   "outputs": [
    {
     "data": {
      "text/plain": [
       "array([ 148.19098876,  -99.07456265, -124.72129464])"
      ]
     },
     "execution_count": 35,
     "metadata": {},
     "output_type": "execute_result"
    }
   ],
   "source": [
    "np.real(eigvals[0:3])"
   ]
  },
  {
   "cell_type": "code",
   "execution_count": 44,
   "metadata": {},
   "outputs": [],
   "source": [
    "# normalization\n",
    "for i in range(M):\n",
    "    C = np.sqrt(eigvals[i]) * np.sum(np.abs(eigvecs[i])**2)*Lambda\n",
    "    eigvecs[i] = -eigvecs[i]*1/np.sqrt(C)\n",
    "\n",
    "x = np.arange(0, Lambda, 0.001)    # µm\n",
    "\n",
    "E2x = np.zeros((len(x),M), dtype=np.complex_)\n",
    "\n",
    "# for m in range(M):\n",
    "#     for o in range(len(x)):\n",
    "#         for n in range(-N, N):\n",
    "#             E2x[o, m] = E2x[o, m] + eigvecs[n+N, m] * np.exp(1j*(kx+n*G)*x[o])\n",
    "\n",
    "for o in range(len(x)):\n",
    "    for n in range(-N, N):\n",
    "        E2x[o] = E2x[o] + eigvecs[n+N] * np.exp(1j*(kx+n*G)*x[o])"
   ]
  },
  {
   "cell_type": "code",
   "execution_count": 51,
   "metadata": {},
   "outputs": [
    {
     "data": {
      "text/plain": [
       "array([2, 3, 4])"
      ]
     },
     "execution_count": 51,
     "metadata": {},
     "output_type": "execute_result"
    }
   ],
   "source": [
    "1+np.array([1, 2, 3])"
   ]
  },
  {
   "cell_type": "code",
   "execution_count": 53,
   "metadata": {},
   "outputs": [
    {
     "data": {
      "text/plain": [
       "3.25"
      ]
     },
     "execution_count": 53,
     "metadata": {},
     "output_type": "execute_result"
    }
   ],
   "source": [
    "eps1+eps2"
   ]
  },
  {
   "cell_type": "code",
   "execution_count": 66,
   "metadata": {},
   "outputs": [
    {
     "data": {
      "image/png": "[encoded data removed]",
      "text/plain": [
       "<Figure size 640x480 with 2 Axes>"
      ]
     },
     "metadata": {},
     "output_type": "display_data"
    }
   ],
   "source": [
    "fig, ax1 = plt.subplots()\n",
    "ax2 = ax1.twinx()\n",
    "\n",
    "lns1 = ax1.plot(x, np.real(E2x[:, 0]), label=\"$Re(E_y)$\")\n",
    "lns2 = ax1.plot(x, np.imag(E2x[:, 0]), color=\"darkorange\", label=\"$Im(E_y)$\")\n",
    "lns3 = ax2.plot(x, n1 + (n2-n1)*np.heaviside(f*Lambda-x, 0), linestyle=\"--\", label=\"Refractive index\")\n",
    "\n",
    "ax1.set_xlabel(\"x [$\\mu m$]\")\n",
    "ax2.set_ylabel(\"Refractive index\")\n",
    "\n",
    "ax1.set_yticks([])\n",
    "ax1.set_ylim([-0.05, .5])\n",
    "ax2.set_ylim([0, 1.6])\n",
    "\n",
    "# build legend\n",
    "lns = lns1+lns2+lns3\n",
    "labs = [ln.get_label() for ln in lns]\n",
    "ax1.legend(lns, labs, loc='upper right')\n",
    "plt.show()"
   ]
  }
 ],
 "metadata": {
  "kernelspec": {
   "display_name": "venv",
   "language": "python",
   "name": "python3"
  },
  "language_info": {
   "codemirror_mode": {
    "name": "ipython",
    "version": 3
   },
   "file_extension": ".py",
   "mimetype": "text/x-python",
   "name": "python",
   "nbconvert_exporter": "python",
   "pygments_lexer": "ipython3",
   "version": "3.10.11"
  },
  "orig_nbformat": 4
 },
 "nbformat": 4,
 "nbformat_minor": 2
}
