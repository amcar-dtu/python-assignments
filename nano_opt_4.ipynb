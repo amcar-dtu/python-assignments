{
 "cells": [
  {
   "cell_type": "markdown",
   "metadata": {},
   "source": [
    "Optical field calculation using the Fourier Modal Method\n",
    "===="
   ]
  },
  {
   "cell_type": "code",
   "execution_count": 110,
   "metadata": {},
   "outputs": [],
   "source": [
    "%reset\n",
    "\n",
    "import numpy as np\n",
    "import matplotlib.pyplot as plt\n",
    "from scipy import sparse, linalg, integrate"
   ]
  },
  {
   "cell_type": "markdown",
   "metadata": {},
   "source": [
    "# Part 1. Eigenmode calculation"
   ]
  },
  {
   "cell_type": "code",
   "execution_count": 24,
   "metadata": {},
   "outputs": [],
   "source": [
    "N=25                                    # summation limits\n",
    "M=2*N+1                                 # Total Number of plane wave terms included in expansion\n",
    "\n",
    "l = 0.633                               # work wavelength in µm\n",
    "thetaDeg = 0\n",
    "theta = thetaDeg * ((2*np.pi)/360)      # Angle of incidence (radians)\n",
    "\n",
    "eps1 = 1\n",
    "sqrteps2 = 1.5\n",
    "eps2=sqrteps2**2\n",
    "n1=np.sqrt(eps1)\n",
    "n2=sqrteps2\n",
    "\n",
    "k0 = 2*np.pi/l                          # k vector in layer 1 (air)\n",
    "k1=k0*np.sqrt(eps1)\n",
    "kx = k1*np.sin(theta)\n",
    "\n",
    "Lambda = 0.400      # µm\n",
    "f = 0.32\n",
    "\n",
    "# constants\n",
    "G = 2*np.pi/Lambda\n",
    "\n",
    "# build A matrix\n",
    "A = np.eye(M)\n",
    "for i in range(M):\n",
    "        A[i ,i] = ((-N+i)*G+kx)**2\n"
   ]
  },
  {
   "cell_type": "code",
   "execution_count": 29,
   "metadata": {},
   "outputs": [],
   "source": [
    "def complex_quadrature(func, a, b, **kwargs):\n",
    "    def real_func(x):\n",
    "        return np.real(func(x))\n",
    "    def imag_func(x):\n",
    "        return np.imag(func(x))\n",
    "    real_integral = integrate.quad(real_func, a, b, limit=100, **kwargs)\n",
    "    imag_integral = integrate.quad(imag_func, a, b, limit=100, **kwargs)\n",
    "    return real_integral[0] + 1j*imag_integral[0]\n",
    "\n",
    "B = np.zeros((M, M), dtype=np.complex_)\n",
    "for i in range(M):\n",
    "    for j in range(M):\n",
    "        func = lambda x: (eps1*np.heaviside(x-f*Lambda, 0)+eps2*np.heaviside(f*Lambda-x, 0)) * np.exp(-1j*(i-j)*G*x)\n",
    "        B[i,j] = (1/Lambda) * complex_quadrature(func, 0, Lambda)\n"
   ]
  },
  {
   "cell_type": "code",
   "execution_count": 33,
   "metadata": {},
   "outputs": [],
   "source": [
    "EigPb = -A + (k0**2)*B\n",
    "\n",
    "eigenValues, eigenVectors = linalg.eig(EigPb)\n",
    "\n",
    "# sort 'em all\n",
    "idx = eigenValues.argsort()[::-1]   \n",
    "eigvals = eigenValues[idx]\n",
    "eigvecs = eigenVectors[:,idx]"
   ]
  },
  {
   "cell_type": "code",
   "execution_count": 35,
   "metadata": {},
   "outputs": [
    {
     "data": {
      "text/plain": [
       "array([ 148.19098876,  -99.07456265, -124.72129464])"
      ]
     },
     "execution_count": 35,
     "metadata": {},
     "output_type": "execute_result"
    }
   ],
   "source": [
    "np.real(eigvals[0:3])"
   ]
  },
  {
   "cell_type": "code",
   "execution_count": 44,
   "metadata": {},
   "outputs": [],
   "source": [
    "# normalization\n",
    "for i in range(M):\n",
    "    C = np.sqrt(eigvals[i]) * np.sum(np.abs(eigvecs[i])**2)*Lambda\n",
    "    eigvecs[i] = -eigvecs[i]*1/np.sqrt(C)\n",
    "\n",
    "x = np.arange(0, Lambda, 0.001)    # µm\n",
    "\n",
    "E2x = np.zeros((len(x),M), dtype=np.complex_)\n",
    "\n",
    "for o in range(len(x)):\n",
    "    for n in range(-N, N):\n",
    "        E2x[o] = E2x[o] + eigvecs[n+N] * np.exp(1j*(kx+n*G)*x[o])"
   ]
  },
  {
   "cell_type": "code",
   "execution_count": 66,
   "metadata": {},
   "outputs": [
    {
     "data": {
      "image/png": "[encoded data removed]",
      "text/plain": [
       "<Figure size 640x480 with 2 Axes>"
      ]
     },
     "metadata": {},
     "output_type": "display_data"
    }
   ],
   "source": [
    "fig, ax1 = plt.subplots()\n",
    "ax2 = ax1.twinx()\n",
    "\n",
    "lns1 = ax1.plot(x, np.real(E2x[:, 0]), label=\"$Re(E_y)$\")\n",
    "lns2 = ax1.plot(x, np.imag(E2x[:, 0]), color=\"darkorange\", label=\"$Im(E_y)$\")\n",
    "lns3 = ax2.plot(x, n1 + (n2-n1)*np.heaviside(f*Lambda-x, 0), linestyle=\"--\", label=\"Refractive index\")\n",
    "\n",
    "ax1.set_xlabel(\"x [$\\mu m$]\")\n",
    "ax2.set_ylabel(\"Refractive index\")\n",
    "\n",
    "ax1.set_yticks([])\n",
    "ax1.set_ylim([-0.05, .5])\n",
    "ax2.set_ylim([0, 1.6])\n",
    "\n",
    "# build legend\n",
    "lns = lns1+lns2+lns3\n",
    "labs = [ln.get_label() for ln in lns]\n",
    "ax1.legend(lns, labs, loc='upper right')\n",
    "plt.show()"
   ]
  },
  {
   "cell_type": "markdown",
   "metadata": {},
   "source": [
    "# Part 2. Reflection and transmission at an interface"
   ]
  },
  {
   "cell_type": "code",
   "execution_count": 111,
   "metadata": {},
   "outputs": [],
   "source": [
    "# set up constants and parameters for the Air-grating-substrate setup\n",
    "\n",
    "N=25                       # summation limits\n",
    "M=2*N+1                    # Total Number of plane wave terms included in expansion\n",
    "spatialresolution=250\n",
    "\n",
    "L=385e-9                   # height of substrate (layer 2) in m\n",
    "wavelength=633e-9          # wavelength of light in m\n",
    "thetaDegree=0              # angle of incidence in degrees \n",
    "\n",
    "theta=thetaDegree*2*np.pi/360   # Angle of incidence in radians\n",
    "\n",
    "epsilon1=1\n",
    "epsilon2=1.5**2\n",
    "\n",
    "n1=np.sqrt(epsilon1)\n",
    "n2=np.sqrt(epsilon2)\n",
    "\n",
    "k1=n1*2*np.pi/wavelength    # k vector in layer 1 (air)\n",
    "k0=k1                       # define k0 same as in air\n",
    "k3=n2*(2*np.pi)/wavelength  # k vector in layer 3 (glass substrate)\n",
    "GratePeriod=400e-9          # grating period, the periodicity in the x-direction in layer 2\n",
    "f=0.32                      # filling factor a/Lamda\n",
    "a=GratePeriod*f             # the thickness of each grate-layer\n",
    "\n",
    "G=2*np.pi/GratePeriod\n",
    "GrateSpacing=GratePeriod-a\n",
    "\n",
    "ztop12=GratePeriod/2        # top of computational domain\n",
    "zbot12=-GratePeriod/2       # bottom of computational domain"
   ]
  },
  {
   "cell_type": "code",
   "execution_count": 112,
   "metadata": {},
   "outputs": [],
   "source": [
    "# Construct the matrices\n",
    "kx=k1*np.sin(theta)\n",
    "\n",
    "# reallocate matrices\n",
    "A=np.zeros((M,M), dtype=np.complex_)\n",
    "B=np.zeros((M,M), dtype=np.complex_)\n",
    "\n",
    "Nvec=np.linspace(-N,N,M)\n",
    "Nvec2=np.linspace(-2*N,2*N,4*N+1)\n",
    "A=np.diag(Nvec*G+kx)**2"
   ]
  },
  {
   "cell_type": "code",
   "execution_count": 113,
   "metadata": {},
   "outputs": [
    {
     "name": "stderr",
     "output_type": "stream",
     "text": [
      "C:\\Users\\amcar\\AppData\\Local\\Temp\\ipykernel_127488\\165988908.py:7: RuntimeWarning: divide by zero encountered in divide\n",
      "  eps2vec[j]=(1/GratePeriod) * (np.divide(1, (-1j*G*Nvec2[j]))) * ( epsilon2*(np.exp(-1j*Nvec2[j]*G*a) - 1) + epsilon1*(np.exp(-1j*Nvec2[j]*G*GratePeriod)-np.exp(-1j*Nvec2[j]*G*a)) )\n",
      "C:\\Users\\amcar\\AppData\\Local\\Temp\\ipykernel_127488\\165988908.py:7: RuntimeWarning: invalid value encountered in divide\n",
      "  eps2vec[j]=(1/GratePeriod) * (np.divide(1, (-1j*G*Nvec2[j]))) * ( epsilon2*(np.exp(-1j*Nvec2[j]*G*a) - 1) + epsilon1*(np.exp(-1j*Nvec2[j]*G*GratePeriod)-np.exp(-1j*Nvec2[j]*G*a)) )\n",
      "C:\\Users\\amcar\\AppData\\Local\\Temp\\ipykernel_127488\\165988908.py:7: RuntimeWarning: invalid value encountered in scalar multiply\n",
      "  eps2vec[j]=(1/GratePeriod) * (np.divide(1, (-1j*G*Nvec2[j]))) * ( epsilon2*(np.exp(-1j*Nvec2[j]*G*a) - 1) + epsilon1*(np.exp(-1j*Nvec2[j]*G*GratePeriod)-np.exp(-1j*Nvec2[j]*G*a)) )\n"
     ]
    }
   ],
   "source": [
    "def sortem(eigenVectors, eigenValues):\n",
    "    idx = eigenValues.argsort()[::-1]   \n",
    "    return eigenVectors[:,idx], eigenValues[idx]\n",
    "\n",
    "eps2vec = np.zeros(len(Nvec2), dtype=np.complex_)\n",
    "for j in range(len(Nvec2)):\n",
    "    eps2vec[j]=(1/GratePeriod) * (np.divide(1, (-1j*G*Nvec2[j]))) * ( epsilon2*(np.exp(-1j*Nvec2[j]*G*a) - 1) + epsilon1*(np.exp(-1j*Nvec2[j]*G*GratePeriod)-np.exp(-1j*Nvec2[j]*G*a)) )\n",
    "\n",
    "eps2vec[M-1] = (epsilon2*a+epsilon1*GrateSpacing)/GratePeriod\n",
    "\n",
    "for j in range(M):\n",
    "    for u in range(M):\n",
    "      B[j,u]=eps2vec[M+j-u-1]\n",
    "\n",
    "eigmat1=-A+(k0**2)*B\n",
    "betasquared1, eigvecunnorm1 = linalg.eig(eigmat1)\n",
    "betasquared1 = np.real(betasquared1)\n",
    "eigvecunnorm, betasquared=sortem(eigvecunnorm1, betasquared1)"
   ]
  },
  {
   "cell_type": "code",
   "execution_count": 115,
   "metadata": {},
   "outputs": [],
   "source": [
    "# Determine the normalization constant\n",
    "C = np.zeros(M, dtype=np.complex_)\n",
    "eigvecnorm = np.zeros(eigvecunnorm.shape, dtype=np.complex_)\n",
    "for j in range(M):\n",
    "    C[j]=np.emath.sqrt(betasquared[j])*GratePeriod*(np.linalg.norm(eigvecunnorm[j])**2)\n",
    "    eigvecnorm[j]=np.divide(1, np.emath.sqrt(C[j]))*eigvecunnorm[j]"
   ]
  },
  {
   "cell_type": "code",
   "execution_count": 116,
   "metadata": {},
   "outputs": [],
   "source": [
    "# Now we find the E-field in the y-direction\n",
    "\n",
    "xvec=np.linspace(0,GratePeriod,spatialresolution)\n",
    "zvec12=np.linspace(zbot12,ztop12,spatialresolution)\n",
    "# this is the calculation of the fundamental mode - we can also calculate\n",
    "# the rest, but it is computationally heavy\n",
    "\n",
    "u1matunsorted=np.diag(np.ones(M, dtype=np.complex_))\n",
    "beta1unsorted=np.emath.sqrt(epsilon1*(k0**2)*np.ones(M)-(kx*np.ones(M)+G*Nvec)**2)\n",
    "\n",
    "u1mat, beta1vec=sortem(u1matunsorted, (beta1unsorted**2))\n",
    "beta1=np.emath.sqrt(beta1vec)\n",
    "\n",
    "for j in range(M):\n",
    "    C[j]=np.emath.sqrt(beta1vec[j])*GratePeriod*(np.linalg.norm(u1mat[j])**2)\n",
    "    u1mat[j]=np.divide(1, np.emath.sqrt(C[j]))*u1mat[j]\n"
   ]
  },
  {
   "cell_type": "code",
   "execution_count": 122,
   "metadata": {},
   "outputs": [
    {
     "name": "stderr",
     "output_type": "stream",
     "text": [
      "C:\\Users\\amcar\\AppData\\Local\\Temp\\ipykernel_127488\\2944913722.py:18: DeprecationWarning: Conversion of an array with ndim > 0 to a scalar is deprecated, and will error in future. Ensure you extract a single element from your array before performing this operation. (Deprecated NumPy 1.25.)\n",
      "  Ey2full[j,n]=eigvecnorm[:, n].reshape(1, M) @ np.exp(1j*(kx*np.ones((M,1))+Nvec.reshape(M, 1)*G)*xvec[j])\n",
      "C:\\Users\\amcar\\AppData\\Local\\Temp\\ipykernel_127488\\2944913722.py:19: DeprecationWarning: Conversion of an array with ndim > 0 to a scalar is deprecated, and will error in future. Ensure you extract a single element from your array before performing this operation. (Deprecated NumPy 1.25.)\n",
      "  Ey1full[j,n]=u1mat[:, n].reshape(1, M) @ np.exp(1j*(kx*np.ones((M,1))+Nvec.reshape(M, 1)*G)*xvec[j])\n",
      "C:\\Users\\amcar\\AppData\\Local\\Temp\\ipykernel_127488\\2944913722.py:20: DeprecationWarning: Conversion of an array with ndim > 0 to a scalar is deprecated, and will error in future. Ensure you extract a single element from your array before performing this operation. (Deprecated NumPy 1.25.)\n",
      "  Ey3full[j,n]=u3mat[:, n].reshape(1, M) @ np.exp(1j*(kx*np.ones((M,1))+Nvec.reshape(M, 1)*G)*xvec[j])\n"
     ]
    }
   ],
   "source": [
    "u3matunsorted=np.diag(np.ones(M, dtype=np.complex_))\n",
    "beta3unsorted=np.emath.sqrt(epsilon2*(k0**2)*np.ones(M)-(kx*np.ones(M)+G*Nvec)**2)\n",
    "\n",
    "u3mat, beta3vec=sortem(u3matunsorted,(beta3unsorted**2))\n",
    "beta3=np.emath.sqrt(beta3vec)\n",
    "\n",
    "for j in range(M):\n",
    "    C[j]=np.emath.sqrt(beta3vec[j])*GratePeriod*(np.linalg.norm(u3mat[j])**2)\n",
    "    u3mat[j]=np.divide(1, np.emath.sqrt(C[j]))*u3mat[j]\n",
    "\n",
    "Ey2fundamental = np.zeros((spatialresolution, 1), dtype=np.complex_)\n",
    "Ey1full = np.zeros((spatialresolution, M), dtype=np.complex_)\n",
    "Ey2full = np.zeros((spatialresolution, M), dtype=np.complex_)\n",
    "Ey3full = np.zeros((spatialresolution, M), dtype=np.complex_)\n",
    "for j in range(spatialresolution):\n",
    "    Ey2fundamental[j]=eigvecnorm[:, 0].reshape(1, M) @ np.exp(1j*(kx*np.ones((M,1))+Nvec.reshape(M,1)*G)*xvec[j])\n",
    "    for n in range(M):     # Compute the full set\n",
    "        Ey2full[j,n]=eigvecnorm[:, n].reshape(1, M) @ np.exp(1j*(kx*np.ones((M,1))+Nvec.reshape(M, 1)*G)*xvec[j])\n",
    "        Ey1full[j,n]=u1mat[:, n].reshape(1, M) @ np.exp(1j*(kx*np.ones((M,1))+Nvec.reshape(M, 1)*G)*xvec[j])\n",
    "        Ey3full[j,n]=u3mat[:, n].reshape(1, M) @ np.exp(1j*(kx*np.ones((M,1))+Nvec.reshape(M, 1)*G)*xvec[j])\n",
    "\n",
    "# Here we find the phase that will make the fundamental mode purely real\n",
    "FundamentalRealPhase=np.arctan(np.imag(Ey2fundamental[0])/np.real(Ey2fundamental[0]))\n",
    "Ey2fundamentalreal=Ey2fundamental*np.exp(-1j*FundamentalRealPhase)"
   ]
  },
  {
   "cell_type": "code",
   "execution_count": 123,
   "metadata": {},
   "outputs": [
    {
     "data": {
      "image/png": "[encoded data removed]",
      "text/plain": [
       "<Figure size 640x480 with 2 Axes>"
      ]
     },
     "metadata": {},
     "output_type": "display_data"
    }
   ],
   "source": [
    "epsvec=np.concatenate([(epsilon2*np.ones(int(f*spatialresolution))), (epsilon1*np.ones(int(spatialresolution-f*spatialresolution)))])\n",
    "\n",
    "fig, ax1 = plt.subplots()\n",
    "ax2 = ax1.twinx()\n",
    "\n",
    "lns1 = ax1.plot(xvec*(10**6), np.real(Ey2fundamentalreal), label=\"$Re(E_y)$\")\n",
    "lns2 = ax1.plot(xvec*(10**6), np.imag(Ey2fundamentalreal), color=\"darkorange\", label=\"$Im(E_y)$\")\n",
    "lns3 = ax2.plot(xvec*(10**6), np.sqrt(epsvec), color=\"black\", linestyle=\"--\", label=\"Refractive index\")\n",
    "\n",
    "ax1.set_xlabel(\"x [$\\mu m$]\")\n",
    "ax2.set_ylabel(\"Refractive index\")\n",
    "\n",
    "ax1.set_yticks([])\n",
    "ax1.set_ylim([-0.05, .5])\n",
    "ax2.set_ylim([0, 1.6])\n",
    "\n",
    "# build legend\n",
    "lns = lns1+lns2+lns3\n",
    "labs = [ln.get_label() for ln in lns]\n",
    "ax1.legend(lns, labs, loc='upper right')\n",
    "plt.show()"
   ]
  },
  {
   "cell_type": "code",
   "execution_count": null,
   "metadata": {},
   "outputs": [],
   "source": [
    "u2mat=eigvecnorm\n",
    "beta2=np.emath.sqrt(betasquared)\n",
    "\n",
    "tmat12=2*inv(inv(u1mat)*u2mat+inv(u1mat*diag(beta1))*(u2mat*sqrt(betasquared)))\n",
    "tmat21=2*inv(inv(u2mat)*u1mat+inv(u2mat*sqrt(betasquared))*(u1mat*diag(beta1)))\n",
    "\n",
    "rmat12=1/2*(inv(u1mat)*u2mat - inv(u1mat*diag(beta1))*(u2mat*sqrt(betasquared)))*tmat12"
   ]
  },
  {
   "cell_type": "code",
   "execution_count": 67,
   "metadata": {},
   "outputs": [
    {
     "data": {
      "text/plain": [
       "array([[1., 0., 0., ..., 0., 0., 0.],\n",
       "       [0., 1., 0., ..., 0., 0., 0.],\n",
       "       [0., 0., 1., ..., 0., 0., 0.],\n",
       "       ...,\n",
       "       [0., 0., 0., ..., 1., 0., 0.],\n",
       "       [0., 0., 0., ..., 0., 1., 0.],\n",
       "       [0., 0., 0., ..., 0., 0., 1.]])"
      ]
     },
     "execution_count": 67,
     "metadata": {},
     "output_type": "execute_result"
    }
   ],
   "source": [
    "u1matunsorted = np.diag(np.ones(M))\n",
    "u1matunsorted"
   ]
  },
  {
   "cell_type": "code",
   "execution_count": 68,
   "metadata": {},
   "outputs": [
    {
     "name": "stderr",
     "output_type": "stream",
     "text": [
      "C:\\Users\\amcar\\AppData\\Local\\Temp\\ipykernel_84500\\614379456.py:12: RuntimeWarning: invalid value encountered in sqrt\n",
      "  beta1unsorted[n] = np.sqrt(eps1*(k0**2) - ((kx+n*G)**2))\n",
      "C:\\Users\\amcar\\AppData\\Local\\Temp\\ipykernel_84500\\614379456.py:20: RuntimeWarning: divide by zero encountered in divide\n",
      "  u1mat[i] = -u1mat[i]*1/np.sqrt(C)\n",
      "C:\\Users\\amcar\\AppData\\Local\\Temp\\ipykernel_84500\\614379456.py:20: RuntimeWarning: invalid value encountered in divide\n",
      "  u1mat[i] = -u1mat[i]*1/np.sqrt(C)\n"
     ]
    },
    {
     "ename": "LinAlgError",
     "evalue": "SVD did not converge",
     "output_type": "error",
     "traceback": [
      "\u001b[1;31m---------------------------------------------------------------------------\u001b[0m",
      "\u001b[1;31mLinAlgError\u001b[0m                               Traceback (most recent call last)",
      "\u001b[1;32mc:\\Users\\amcar\\Documents\\python\\python-assignments\\nano_opt_4.ipynb Cell 12\u001b[0m line \u001b[0;36m2\n\u001b[0;32m     <a href='vscode-notebook-cell:/c%3A/Users/amcar/Documents/python/python-assignments/nano_opt_4.ipynb#X30sZmlsZQ%3D%3D?line=18'>19</a>\u001b[0m     C \u001b[39m=\u001b[39m np\u001b[39m.\u001b[39msqrt(beta1vec[i]) \u001b[39m*\u001b[39m np\u001b[39m.\u001b[39msum(np\u001b[39m.\u001b[39mabs(u1mat[i])\u001b[39m*\u001b[39m\u001b[39m*\u001b[39m\u001b[39m2\u001b[39m)\u001b[39m*\u001b[39mLambda\n\u001b[0;32m     <a href='vscode-notebook-cell:/c%3A/Users/amcar/Documents/python/python-assignments/nano_opt_4.ipynb#X30sZmlsZQ%3D%3D?line=19'>20</a>\u001b[0m     u1mat[i] \u001b[39m=\u001b[39m \u001b[39m-\u001b[39mu1mat[i]\u001b[39m*\u001b[39m\u001b[39m1\u001b[39m\u001b[39m/\u001b[39mnp\u001b[39m.\u001b[39msqrt(C)\n\u001b[1;32m---> <a href='vscode-notebook-cell:/c%3A/Users/amcar/Documents/python/python-assignments/nano_opt_4.ipynb#X30sZmlsZQ%3D%3D?line=22'>23</a>\u001b[0m tmat12 \u001b[39m=\u001b[39m \u001b[39m2\u001b[39m\u001b[39m*\u001b[39mnp\u001b[39m.\u001b[39mlinalg\u001b[39m.\u001b[39mpinv(np\u001b[39m.\u001b[39;49mlinalg\u001b[39m.\u001b[39;49mpinv(u1mat)\u001b[39m@u2mat\u001b[39m\u001b[39m+\u001b[39mnp\u001b[39m.\u001b[39mlinalg\u001b[39m.\u001b[39mpinv(u1mat\u001b[39m@beta1\u001b[39m)\u001b[39m@\u001b[39m(u2mat \u001b[39m@\u001b[39m beta2))\n",
      "File \u001b[1;32mc:\\Users\\amcar\\Documents\\python\\python-assignments\\venv\\lib\\site-packages\\numpy\\linalg\\linalg.py:2022\u001b[0m, in \u001b[0;36mpinv\u001b[1;34m(a, rcond, hermitian)\u001b[0m\n\u001b[0;32m   2020\u001b[0m     \u001b[39mreturn\u001b[39;00m wrap(res)\n\u001b[0;32m   2021\u001b[0m a \u001b[39m=\u001b[39m a\u001b[39m.\u001b[39mconjugate()\n\u001b[1;32m-> 2022\u001b[0m u, s, vt \u001b[39m=\u001b[39m svd(a, full_matrices\u001b[39m=\u001b[39;49m\u001b[39mFalse\u001b[39;49;00m, hermitian\u001b[39m=\u001b[39;49mhermitian)\n\u001b[0;32m   2024\u001b[0m \u001b[39m# discard small singular values\u001b[39;00m\n\u001b[0;32m   2025\u001b[0m cutoff \u001b[39m=\u001b[39m rcond[\u001b[39m.\u001b[39m\u001b[39m.\u001b[39m\u001b[39m.\u001b[39m, newaxis] \u001b[39m*\u001b[39m amax(s, axis\u001b[39m=\u001b[39m\u001b[39m-\u001b[39m\u001b[39m1\u001b[39m, keepdims\u001b[39m=\u001b[39m\u001b[39mTrue\u001b[39;00m)\n",
      "File \u001b[1;32mc:\\Users\\amcar\\Documents\\python\\python-assignments\\venv\\lib\\site-packages\\numpy\\linalg\\linalg.py:1681\u001b[0m, in \u001b[0;36msvd\u001b[1;34m(a, full_matrices, compute_uv, hermitian)\u001b[0m\n\u001b[0;32m   1678\u001b[0m         gufunc \u001b[39m=\u001b[39m _umath_linalg\u001b[39m.\u001b[39msvd_n_s\n\u001b[0;32m   1680\u001b[0m signature \u001b[39m=\u001b[39m \u001b[39m'\u001b[39m\u001b[39mD->DdD\u001b[39m\u001b[39m'\u001b[39m \u001b[39mif\u001b[39;00m isComplexType(t) \u001b[39melse\u001b[39;00m \u001b[39m'\u001b[39m\u001b[39md->ddd\u001b[39m\u001b[39m'\u001b[39m\n\u001b[1;32m-> 1681\u001b[0m u, s, vh \u001b[39m=\u001b[39m gufunc(a, signature\u001b[39m=\u001b[39;49msignature, extobj\u001b[39m=\u001b[39;49mextobj)\n\u001b[0;32m   1682\u001b[0m u \u001b[39m=\u001b[39m u\u001b[39m.\u001b[39mastype(result_t, copy\u001b[39m=\u001b[39m\u001b[39mFalse\u001b[39;00m)\n\u001b[0;32m   1683\u001b[0m s \u001b[39m=\u001b[39m s\u001b[39m.\u001b[39mastype(_realType(result_t), copy\u001b[39m=\u001b[39m\u001b[39mFalse\u001b[39;00m)\n",
      "File \u001b[1;32mc:\\Users\\amcar\\Documents\\python\\python-assignments\\venv\\lib\\site-packages\\numpy\\linalg\\linalg.py:121\u001b[0m, in \u001b[0;36m_raise_linalgerror_svd_nonconvergence\u001b[1;34m(err, flag)\u001b[0m\n\u001b[0;32m    120\u001b[0m \u001b[39mdef\u001b[39;00m \u001b[39m_raise_linalgerror_svd_nonconvergence\u001b[39m(err, flag):\n\u001b[1;32m--> 121\u001b[0m     \u001b[39mraise\u001b[39;00m LinAlgError(\u001b[39m\"\u001b[39m\u001b[39mSVD did not converge\u001b[39m\u001b[39m\"\u001b[39m)\n",
      "\u001b[1;31mLinAlgError\u001b[0m: SVD did not converge"
     ]
    }
   ],
   "source": [
    "def sortem(eigenVectors, eigenValues):\n",
    "    idx = eigenValues.argsort()[::-1]   \n",
    "    return eigenVectors[:,idx], eigenValues[idx]\n",
    "\n",
    "u2mat = eigvecs\n",
    "beta2 = np.sqrt(eigvals)\n",
    "\n",
    "u1matunsorted = np.diag(np.ones(M))\n",
    "beta1unsorted = np.zeros((M, 1))\n",
    "\n",
    "for n in range(-N, N):\n",
    "    beta1unsorted[n] = np.sqrt(eps1*(k0**2) - ((kx+n*G)**2))\n",
    "\n",
    "u1mat, beta1vec = sortem(u1matunsorted, beta1unsorted**2)\n",
    "beta1 = np.sqrt(beta1vec)\n",
    "\n",
    "# normalization\n",
    "for i in range(M):\n",
    "    C = np.sqrt(beta1vec[i]) * np.sum(np.abs(u1mat[i])**2)*Lambda\n",
    "    u1mat[i] = -u1mat[i]*1/np.sqrt(C)\n",
    "\n",
    "\n",
    "tmat12 = 2*np.linalg.pinv(np.linalg.pinv(u1mat)@u2mat+np.linalg.pinv(u1mat@beta1)@(u2mat @ beta2))"
   ]
  }
 ],
 "metadata": {
  "kernelspec": {
   "display_name": "venv",
   "language": "python",
   "name": "python3"
  },
  "language_info": {
   "codemirror_mode": {
    "name": "ipython",
    "version": 3
   },
   "file_extension": ".py",
   "mimetype": "text/x-python",
   "name": "python",
   "nbconvert_exporter": "python",
   "pygments_lexer": "ipython3",
   "version": "3.10.11"
  },
  "orig_nbformat": 4
 },
 "nbformat": 4,
 "nbformat_minor": 2
}
