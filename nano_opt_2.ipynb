{
 "cells": [
  {
   "cell_type": "markdown",
   "metadata": {},
   "source": [
    "# Optical field calculation using the volume integration technique"
   ]
  },
  {
   "cell_type": "markdown",
   "metadata": {},
   "source": [
    "We consider the problem of light propagating in the x-y plane and being scattered by an object of infinite extent along the z axis. For light polarized along the z axis, we can skip the vectorial notation and treat the problem using the 2D scalar Helmholtz equation.\n",
    "\n",
    "Compute the absolute value of the field E inside and outside the rectangle of width $w = 250 nm$, height $h = 1000 nm$ and dielectric constants $ε_1 = 4$ and $ε_{ref} = 1$. The incoming field is a plane wave of wavelength $λ = 633 nm$, and the angle of incidence is $θ = 0°$\n",
    "\n",
    "![Alt text](image.png)"
   ]
  },
  {
   "cell_type": "markdown",
   "metadata": {},
   "source": [
    "The structures are illuminated by an incoming wave\n",
    "\n",
    "$$E_0(x,y) = e^{ik(xcos\\theta + ysin\\theta)}$$\n",
    "\n",
    "where $k=\\epsilon_{ref}^{1/2}k_0$. This is the wave travelling in air."
   ]
  },
  {
   "cell_type": "markdown",
   "metadata": {},
   "source": [
    "We would like to find the solution to the Helmholtz equation which is the sum of the incoming field and a scattered field. This can be performed by solving the integral equation:\n",
    "\n",
    "$$ E(x,y) = E_0(x,y) + k^2 \\int{G(x, y; x', y')[{\\epsilon(x', y') - \\epsilon_{ref}}] E(x', y') dx'dy'} $$\n",
    "\n",
    "The integral gives a contribution only inside the structure where $\\epsilon \\neq \\epsilon_{ref}$. This means that once the field inside the structure is known we can calculate the field everywhere else using this integral."
   ]
  },
  {
   "cell_type": "markdown",
   "metadata": {},
   "source": [
    "The 2D Green’s function $G$ is given by:\n",
    "\n",
    "$$ G(x, y; x', y') = \\dfrac{-1}{4i} H_0^{(1)}({k\\sqrt{(x-x')^2 + (y-y')^2}}) $$\n",
    "\n",
    "Here $H_0^{(1)}$ refers to the Hankel function of order 0 and first kind."
   ]
  },
  {
   "cell_type": "markdown",
   "metadata": {},
   "source": [
    "## Field inside the structure"
   ]
  },
  {
   "cell_type": "markdown",
   "metadata": {},
   "source": [
    "We can compute the field inside the structure by discretizing the structure into e.g. $N$ square area elements of area $∆A$ and coordinates $(x_1, y_1)$, …, $(x_N,y_N)$. The corresponding field values are assumed to be constant within an element and are labelled $E_1$, …, $E_N$. We then have a linear system of eq.ns:\n",
    "\n",
    "$$ E_i = E_{0, i} + k^2 \\sum_j{G_{ij} [{\\epsilon_j - \\epsilon_{ref}}] E_j \\Delta A} $$\n",
    "\n",
    "with:\n",
    "\n",
    "$$ G_{ij} = G(x_i, y_i; x_j, y_j) \\quad, \\qquad \\epsilon_j = \\epsilon(x_j, y_j) $$\n",
    "\n",
    "where one has to be careful with $i$ and $j$ indices.\n",
    "\n",
    "In the expression for $G_{ij}$, for $i = j$ we can approximate the square element to a circular element of same area $a=\\sqrt{\\Delta A/\\pi}$ with center in $(x_i, y_i)$:\n",
    "\n",
    "$$ G_{ii} \\simeq \\dfrac{-1}{2i(ak)^2}[{ka H_1^{(1)}(ka) + \\dfrac{2i}{\\pi}}] $$\n",
    "\n",
    "Note that now we have a Hankel function of first kind but of order 1."
   ]
  },
  {
   "cell_type": "markdown",
   "metadata": {},
   "source": [
    "The final solution is:\n",
    "\n",
    "$$ \\overline{E} = ({\\overline{\\overline{I}} - k^2\\Delta A \\overline{\\overline{G}}\\overline{\\overline{\\epsilon}} })^{-1} \\overline{E_0} $$\n",
    "\n",
    "where $\\overline{E}$ and $\\overline{E_0}$ are vectors containing the elements $E_j$ and $E_{0, j}$ respectively, $\\overline{\\overline{G}}$ is the matrix containing elements $E_{ij}$, and $\\overline{\\overline{\\epsilon}}$ is the diagonal matrix with the elements $\\epsilon_j - \\epsilon_{ref}$ along the diagonal."
   ]
  },
  {
   "cell_type": "code",
   "execution_count": 8,
   "metadata": {},
   "outputs": [],
   "source": [
    "import numpy as np\n",
    "\n",
    "# problem constants\n",
    "e1 = 4\n",
    "eref = 1\n",
    "l = 633                 # nm\n",
    "\n",
    "# variable params\n",
    "t = 0                   # °\n",
    "trad = (np.pi/180) * t    # rad\n",
    "\n",
    "# calculated params\n",
    "k0 = 2*np.pi/l\n",
    "n1 = np.sqrt(e1)\n",
    "nref = np.sqrt(eref)\n",
    "k1 = n1*k0\n",
    "kref = nref*k0"
   ]
  },
  {
   "cell_type": "code",
   "execution_count": 2,
   "metadata": {},
   "outputs": [],
   "source": [
    "from scipy.special import hankel1\n",
    "\n",
    "# rectangle domain\n",
    "w = 250                                         # nm\n",
    "h = 1000                                        # nm\n",
    "step = 25                                       # nm\n",
    "da = step**2                                    # nm^2\n",
    "a = np.sqrt(da/np.pi)                           # nm^2\n",
    "\n",
    "x1 = np.arange(-w/2,w/2,step)                   # nm\n",
    "y1 = np.arange(-h/2,h/2,step)                   # nm\n",
    "e = (e1-eref)*np.eye((len(y1)*len(x1)))\n",
    "\n",
    "X1, Y1 = np.meshgrid(x1, y1)\n",
    "\n",
    "# unperturbed field\n",
    "E0 = np.exp(1j*k0*(X1*np.cos(t) + Y1*np.sin(t)))\n",
    "\n",
    "# build the Green function for the bare rectangle\n",
    "x1x, x1y = X1.shape\n",
    "g1x = x1x*x1y\n",
    "G = np.zeros((g1x, g1x), dtype = 'complex_')\n",
    "\n",
    "X1f = X1.flatten()\n",
    "Y1f = Y1.flatten()\n",
    "\n",
    "for i, xi in enumerate(X1f):\n",
    "    yi = Y1f[i]\n",
    "    for j, xj in enumerate(X1f):\n",
    "        if i==j:\n",
    "            G[j][i] = (-1/(2*1j*((a*k1)**2))) * (a*k1*hankel1(1, a*k1) + ((2*1j)/np.pi))\n",
    "        else:\n",
    "            yj = Y1f[j]\n",
    "            zij = k1 * np.sqrt((xi - xj)**2 + (yi - yj)**2)\n",
    "            G[j][i] = (-1/(4*1j))*hankel1(0, zij)"
   ]
  },
  {
   "cell_type": "code",
   "execution_count": 3,
   "metadata": {},
   "outputs": [],
   "source": [
    "from scipy import sparse\n",
    "\n",
    "# use eq. (9) to calculate the field inside the structure\n",
    "I = np.identity(len(G))\n",
    "M = sparse.csr_matrix(I - k1**2*da*np.matmul(G, e))\n",
    "Minv = np.linalg.pinv(M.toarray())\n",
    "E = np.matmul(Minv, E0.flatten())"
   ]
  },
  {
   "cell_type": "code",
   "execution_count": 6,
   "metadata": {},
   "outputs": [
    {
     "data": {
      "text/plain": [
       "<matplotlib.contour.QuadContourSet at 0x225016860b0>"
      ]
     },
     "execution_count": 6,
     "metadata": {},
     "output_type": "execute_result"
    },
    {
     "data": {
      "image/png": "[encoded data removed]",
      "text/plain": [
       "<Figure size 300x700 with 1 Axes>"
      ]
     },
     "metadata": {},
     "output_type": "display_data"
    }
   ],
   "source": [
    "import matplotlib.pyplot as plt\n",
    "\n",
    "plt.figure(figsize=(3,7))\n",
    "plt.contourf(X1, Y1, np.absolute(E.reshape(E0.shape)))"
   ]
  },
  {
   "cell_type": "code",
   "execution_count": 9,
   "metadata": {},
   "outputs": [],
   "source": [
    "# defining the domain\n",
    "sz = 1000                       # nm\n",
    "step = 25                       # nm\n",
    "x = np.arange(-sz,sz,step)      # nm\n",
    "y = np.arange(-sz,sz,step)      # nm\n",
    "\n",
    "X, Y = np.meshgrid(x, y)\n",
    "\n",
    "E0t = np.exp(1j*k0*(X*np.cos(t) + Y*np.sin(t)))\n",
    "\n",
    "E1m = k1**2 * np.matmul(np.matmul(G, (e - eref)),E)\n",
    "\n",
    "# build the Green function for the bare rectangle\n",
    "xtx, xty = X.shape\n",
    "gtx = xtx*xty\n",
    "Gt = np.zeros((gtx, g1x), dtype = 'complex_')\n",
    "\n",
    "Xf = X.flatten()\n",
    "Yf = Y.flatten()\n",
    "\n",
    "for i, xi in enumerate(X1f):\n",
    "    yi = Y1f[i]\n",
    "    for j, xj in enumerate(Xf):\n",
    "        yti = Yf[i]\n",
    "        if i==j:\n",
    "            G[j][i] = (-1/(2*1j*((a*k1)**2))) * (a*k1*hankel1(1, a*k1) + ((2*1j)/np.pi))\n",
    "        else:\n",
    "            yj = Y1f[j]\n",
    "            zij = k1 * np.sqrt((xi - xj)**2 + (yi - yj)**2)\n",
    "            G[j][i] = (-1/(4*1j))*hankel1(0, zij)"
   ]
  },
  {
   "cell_type": "code",
   "execution_count": 50,
   "metadata": {},
   "outputs": [
    {
     "data": {
      "text/plain": [
       "(59.10962810120303-8.936689905577953j)"
      ]
     },
     "execution_count": 50,
     "metadata": {},
     "output_type": "execute_result"
    }
   ],
   "source": [
    "E1t = E0t.flatten() + E1m\n",
    "\n",
    "plt.figure(figsize=(3,7))\n",
    "plt.contourf(X, Y, np.absolute(E1t.reshape(E0t.shape)))"
   ]
  }
 ],
 "metadata": {
  "kernelspec": {
   "display_name": "venv",
   "language": "python",
   "name": "python3"
  },
  "language_info": {
   "codemirror_mode": {
    "name": "ipython",
    "version": 3
   },
   "file_extension": ".py",
   "mimetype": "text/x-python",
   "name": "python",
   "nbconvert_exporter": "python",
   "pygments_lexer": "ipython3",
   "version": "3.10.11"
  },
  "orig_nbformat": 4
 },
 "nbformat": 4,
 "nbformat_minor": 2
}
