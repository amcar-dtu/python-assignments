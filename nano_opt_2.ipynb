{
 "cells": [
  {
   "cell_type": "markdown",
   "metadata": {},
   "source": [
    "# Optical field calculation using the volume integration technique\n",
    "\n",
    "Compute the absolute value of the field E inside and outside the rectangle of width $w = 250 nm$, height $h = 1000 nm$ and dielectric constants $ε_1 = 4$ and $ε_{ref} = 1$. The incoming field is a plane wave of wavelength $λ = 633 nm$, and the angle of incidence is $θ = 0°$\n",
    "\n",
    "![Alt text](image.png)"
   ]
  },
  {
   "cell_type": "markdown",
   "metadata": {},
   "source": []
  },
  {
   "cell_type": "code",
   "execution_count": 1,
   "metadata": {},
   "outputs": [],
   "source": [
    "import numpy as np\n",
    "\n",
    "w = 0.250           # µm\n",
    "h = 1               # µm\n",
    "e1 = 4\n",
    "eref = 1\n",
    "l = 0.633           # µm\n",
    "t = 0               # °\n",
    "trad = t*2*np.pi    # rad\n",
    "\n",
    "k0 = 2*np.pi/l\n",
    "n1 = np.sqrt(e1)\n",
    "nref = np.sqrt(eref)\n",
    "k1 = n1*k0\n",
    "kref = nref*k0"
   ]
  },
  {
   "cell_type": "code",
   "execution_count": null,
   "metadata": {},
   "outputs": [],
   "source": [
    "#defining the domain\n",
    "sz = 2\n",
    "step = 0.01\n",
    "x = np.arange(-sz,sz,step)      # µm\n",
    "y = np.arange(-sz,sz,step)      # µm\n",
    "\n"
   ]
  }
 ],
 "metadata": {
  "kernelspec": {
   "display_name": "venv",
   "language": "python",
   "name": "venv"
  },
  "language_info": {
   "codemirror_mode": {
    "name": "ipython",
    "version": 3
   },
   "file_extension": ".py",
   "mimetype": "text/x-python",
   "name": "python",
   "nbconvert_exporter": "python",
   "pygments_lexer": "ipython3",
   "version": "3.10.9"
  },
  "orig_nbformat": 4,
  "vscode": {
   "interpreter": {
    "hash": "aee8b7b246df8f9039afb4144a1f6fd8d2ca17a180786b69acc140d282b71a49"
   }
  }
 },
 "nbformat": 4,
 "nbformat_minor": 2
}
